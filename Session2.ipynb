{
  "nbformat": 4,
  "nbformat_minor": 0,
  "metadata": {
    "colab": {
      "name": "Session2.ipynb",
      "version": "0.3.2",
      "provenance": [],
      "collapsed_sections": [],
      "include_colab_link": true
    },
    "kernelspec": {
      "name": "python3",
      "display_name": "Python 3"
    },
    "accelerator": "GPU"
  },
  "cells": [
    {
      "cell_type": "markdown",
      "metadata": {
        "id": "view-in-github",
        "colab_type": "text"
      },
      "source": [
        "<a href=\"https://colab.research.google.com/github/vakilarora/myRepo2/blob/master/Session2.ipynb\" target=\"_parent\"><img src=\"https://colab.research.google.com/assets/colab-badge.svg\" alt=\"Open In Colab\"/></a>"
      ]
    },
    {
      "cell_type": "markdown",
      "metadata": {
        "id": "-nJ7YEw_vyjG",
        "colab_type": "text"
      },
      "source": [
        "# **Not an ideal network**"
      ]
    },
    {
      "cell_type": "code",
      "metadata": {
        "id": "kGWv5hBhv2jf",
        "colab_type": "code",
        "colab": {
          "base_uri": "https://localhost:8080/",
          "height": 34
        },
        "outputId": "0274d5cc-64b5-4b72-bf96-7d3462bd98e8"
      },
      "source": [
        "# https://keras.io/\n",
        "# Install keras\n",
        "!pip install -q keras\n",
        "# Import keras\n",
        "import keras"
      ],
      "execution_count": 1,
      "outputs": [
        {
          "output_type": "stream",
          "text": [
            "Using TensorFlow backend.\n"
          ],
          "name": "stderr"
        }
      ]
    },
    {
      "cell_type": "code",
      "metadata": {
        "id": "wnMlDJQKv4VG",
        "colab_type": "code",
        "colab": {}
      },
      "source": [
        "# Importing numpy library and nicknaming it np\n",
        "import numpy as np\n",
        "\n",
        "# Importing Sequential model from keras.models\n",
        "from keras.models import Sequential\n",
        "\n",
        "# Importing Flatten from keras.layers\n",
        "from keras.layers import Flatten\n",
        "\n",
        "# Importing Convolution 2D layers from keras.layers\n",
        "from keras.layers import Convolution2D\n",
        "\n",
        "# Importing np_utils utilities from keras.utils\n",
        "from keras.utils import np_utils\n",
        "\n",
        "# Importing mnist dataset inbuilt into keras.datasets\n",
        "from keras.datasets import mnist"
      ],
      "execution_count": 0,
      "outputs": []
    },
    {
      "cell_type": "code",
      "metadata": {
        "id": "8CdSu2lMwB9s",
        "colab_type": "code",
        "colab": {
          "base_uri": "https://localhost:8080/",
          "height": 51
        },
        "outputId": "898fb7a5-164e-40ae-e4d4-a473004ab46b"
      },
      "source": [
        "# Loading the training and test data sets. Features are in X_train and X_test whereas labels are stored in y_train and y_test\n",
        "(X_train, y_train), (X_test, y_test) = mnist.load_data()"
      ],
      "execution_count": 3,
      "outputs": [
        {
          "output_type": "stream",
          "text": [
            "Downloading data from https://s3.amazonaws.com/img-datasets/mnist.npz\n",
            "11493376/11490434 [==============================] - 18s 2us/step\n"
          ],
          "name": "stdout"
        }
      ]
    },
    {
      "cell_type": "code",
      "metadata": {
        "id": "tLaDf0-rwCmj",
        "colab_type": "code",
        "colab": {
          "base_uri": "https://localhost:8080/",
          "height": 303
        },
        "outputId": "d94f7476-4e80-46bd-83ab-68393a4bff30"
      },
      "source": [
        "# Print the shape (dimentions) of X_train i.e 60000 images of 28x28\n",
        "print (X_train.shape)\n",
        "\n",
        "# Importing pyplot from matplotlib and naming it as plt\n",
        "from matplotlib import pyplot as plt\n",
        "\n",
        "# When working with Anaconda Notebook, this line diplays images inline\n",
        "%matplotlib inline\n",
        "\n",
        "# Display the first image of training set\n",
        "plt.imshow(X_train[0])"
      ],
      "execution_count": 5,
      "outputs": [
        {
          "output_type": "stream",
          "text": [
            "(60000, 28, 28)\n"
          ],
          "name": "stdout"
        },
        {
          "output_type": "execute_result",
          "data": {
            "text/plain": [
              "<matplotlib.image.AxesImage at 0x7f35b7a17b70>"
            ]
          },
          "metadata": {
            "tags": []
          },
          "execution_count": 5
        },
        {
          "output_type": "display_data",
          "data": {
            "image/png": "[encoded data removed]",
            "text/plain": [
              "<Figure size 432x288 with 1 Axes>"
            ]
          },
          "metadata": {
            "tags": []
          }
        }
      ]
    },
    {
      "cell_type": "code",
      "metadata": {
        "id": "erb11jNwwFwl",
        "colab_type": "code",
        "colab": {}
      },
      "source": [
        "# Reshaping the array of (60000,28,28,1) to an array of (60000,28,28,1). X_train.shape[0] is number of images = 60000. This line has no impact on program.\n",
        "X_train = X_train.reshape(X_train.shape[0], 28, 28,1)\n",
        "\n",
        "# Reshaping the array of (10000,28,28,1) to an array of (10000,28,28,1). X_test.shape[0] is number of images = 10000. This line has no impact on program.\n",
        "X_test = X_test.reshape(X_test.shape[0], 28, 28,1)"
      ],
      "execution_count": 0,
      "outputs": []
    },
    {
      "cell_type": "code",
      "metadata": {
        "id": "RLK4YDoRwHet",
        "colab_type": "code",
        "colab": {}
      },
      "source": [
        "# Set X_train data type to float32\n",
        "X_train = X_train.astype('float32')\n",
        "\n",
        "# Set X_test data type to float32\n",
        "X_test = X_test.astype('float32')\n",
        "\n",
        "# Normalize the X_train values between 0 and 1\n",
        "X_train /= 255\n",
        "\n",
        "# Normalize the X_test values between 0 and 1\n",
        "X_test /= 255"
      ],
      "execution_count": 0,
      "outputs": []
    },
    {
      "cell_type": "code",
      "metadata": {
        "id": "JNKLOmhlwJQl",
        "colab_type": "code",
        "colab": {
          "base_uri": "https://localhost:8080/",
          "height": 34
        },
        "outputId": "2e412ee4-ef6e-451a-d2a9-9b622a3128ba"
      },
      "source": [
        "# Print labels of first 10 images(y_train[0] to y_train[9]) of training set\n",
        "y_train[:10]"
      ],
      "execution_count": 21,
      "outputs": [
        {
          "output_type": "execute_result",
          "data": {
            "text/plain": [
              "array([5, 0, 4, 1, 9, 2, 1, 3, 1, 4], dtype=uint8)"
            ]
          },
          "metadata": {
            "tags": []
          },
          "execution_count": 21
        }
      ]
    },
    {
      "cell_type": "code",
      "metadata": {
        "id": "YusMJguiwKsM",
        "colab_type": "code",
        "colab": {}
      },
      "source": [
        "# Convert 1-dimensional class arrays to 10-dimensional class matrices\n",
        "\n",
        "# Converting training set labels to one hot representation\n",
        "Y_train = np_utils.to_categorical(y_train, 10)\n",
        "\n",
        "# Converting test set labels to one hot representation\n",
        "Y_test = np_utils.to_categorical(y_test, 10)"
      ],
      "execution_count": 0,
      "outputs": []
    },
    {
      "cell_type": "code",
      "metadata": {
        "id": "upxc99AswMW0",
        "colab_type": "code",
        "colab": {
          "base_uri": "https://localhost:8080/",
          "height": 187
        },
        "outputId": "05596f0e-60f8-48a9-99a0-de8aacbdf8b9"
      },
      "source": [
        "# Printing one hot labels of first 10 images in training set\n",
        "Y_train[:10]\n"
      ],
      "execution_count": 25,
      "outputs": [
        {
          "output_type": "execute_result",
          "data": {
            "text/plain": [
              "array([[0., 0., 0., 0., 0., 1., 0., 0., 0., 0.],\n",
              "       [1., 0., 0., 0., 0., 0., 0., 0., 0., 0.],\n",
              "       [0., 0., 0., 0., 1., 0., 0., 0., 0., 0.],\n",
              "       [0., 1., 0., 0., 0., 0., 0., 0., 0., 0.],\n",
              "       [0., 0., 0., 0., 0., 0., 0., 0., 0., 1.],\n",
              "       [0., 0., 1., 0., 0., 0., 0., 0., 0., 0.],\n",
              "       [0., 1., 0., 0., 0., 0., 0., 0., 0., 0.],\n",
              "       [0., 0., 0., 1., 0., 0., 0., 0., 0., 0.],\n",
              "       [0., 1., 0., 0., 0., 0., 0., 0., 0., 0.],\n",
              "       [0., 0., 0., 0., 1., 0., 0., 0., 0., 0.]], dtype=float32)"
            ]
          },
          "metadata": {
            "tags": []
          },
          "execution_count": 25
        }
      ]
    },
    {
      "cell_type": "code",
      "metadata": {
        "id": "irTVUE47wNwr",
        "colab_type": "code",
        "colab": {
          "base_uri": "https://localhost:8080/",
          "height": 700
        },
        "outputId": "e697028c-7348-4feb-d91d-dab40590e75a"
      },
      "source": [
        "# Importing Activation and MaxPooling2D from keras.layers\n",
        "from keras.layers import Activation, MaxPooling2D, Dense\n",
        "\n",
        "# Create a Sequential Model\n",
        "model = Sequential() \n",
        "\n",
        "# Shape of input images is 28x28 with 1 channel\n",
        "# Add 2D Convolution layer of 32 kernels of 3x3 with relu activation\n",
        "# Output is 32 feature maps of 26x26\n",
        "model.add(Convolution2D(32, 3, 3, activation='relu', input_shape=(28,28,1)))\n",
        "\n",
        "# Add 2D Convolution layer of 64 kernels of 3x3 with relu activation\n",
        "# Output is 64 feature maps of 24x24\n",
        "model.add(Convolution2D(64, 3, 3, activation='relu'))\n",
        "\n",
        "# Add 2D Convolution layer of 128 kernels of 3x3 with relu activation\n",
        "# Output is 128 feature maps of 22x22\n",
        "model.add(Convolution2D(128, 3, 3, activation='relu'))\n",
        "\n",
        "# Add max pooling layer of 2x2\n",
        "# Output is 128 feature maps of 11x11\n",
        "model.add(MaxPooling2D(pool_size=(2, 2)))\n",
        "\n",
        "# Add 2D Convolution layer of 256 kernels of 3x3 with relu activation\n",
        "# Output is 256 feature maps of 9x9\n",
        "model.add(Convolution2D(256, 3, 3, activation='relu'))\n",
        "\n",
        "# Add 2D Convolution layer of 512 kernels of 3x3 with relu activation\n",
        "# Output is 512 feature maps of 7x7\n",
        "model.add(Convolution2D(512, 3, 3, activation='relu'))\n",
        "\n",
        "# Add 2D Convolution layer of 1024 kernels of 3x3 with relu activation\n",
        "# Output is 1024 feature maps of 5x5\n",
        "model.add(Convolution2D(1024, 3, 3, activation='relu'))\n",
        "\n",
        "# Add 2D Convolution layer of 2048 kernels of 3x3 with relu activation\n",
        "# Output is 2048 feature maps of 3x3\n",
        "model.add(Convolution2D(2048, 3, 3, activation='relu'))\n",
        "\n",
        "# Add 2D Convolution layer of 10 kernels of 3x3 with relu activation\n",
        "# Output is 10 feature maps of 1x1\n",
        "model.add(Convolution2D(10, 3, 3, activation='relu'))\n",
        "\n",
        "# Flatten the model to single array of 10 elements\n",
        "model.add(Flatten())\n",
        "\n",
        "# Convert each prediction to probability like one hot representation using softmax\n",
        "# model.add(Activation('softmax'))\n",
        "# Due to missing Dense layer classifier, this model will never train.\n",
        "# model.add(Activation('softmax'))\n",
        "\n",
        "# Code cane be fixed by adding Dense layer\n",
        "model.add(Dense(10, activation='softmax'))\n",
        "\n",
        "# Show summary of the model\n",
        "model.summary()"
      ],
      "execution_count": 41,
      "outputs": [
        {
          "output_type": "stream",
          "text": [
            "_________________________________________________________________\n",
            "Layer (type)                 Output Shape              Param #   \n",
            "=================================================================\n",
            "conv2d_41 (Conv2D)           (None, 26, 26, 32)        320       \n",
            "_________________________________________________________________\n",
            "conv2d_42 (Conv2D)           (None, 24, 24, 64)        18496     \n",
            "_________________________________________________________________\n",
            "conv2d_43 (Conv2D)           (None, 22, 22, 128)       73856     \n",
            "_________________________________________________________________\n",
            "max_pooling2d_6 (MaxPooling2 (None, 11, 11, 128)       0         \n",
            "_________________________________________________________________\n",
            "conv2d_44 (Conv2D)           (None, 9, 9, 256)         295168    \n",
            "_________________________________________________________________\n",
            "conv2d_45 (Conv2D)           (None, 7, 7, 512)         1180160   \n",
            "_________________________________________________________________\n",
            "conv2d_46 (Conv2D)           (None, 5, 5, 1024)        4719616   \n",
            "_________________________________________________________________\n",
            "conv2d_47 (Conv2D)           (None, 3, 3, 2048)        18876416  \n",
            "_________________________________________________________________\n",
            "conv2d_48 (Conv2D)           (None, 1, 1, 10)          184330    \n",
            "_________________________________________________________________\n",
            "flatten_6 (Flatten)          (None, 10)                0         \n",
            "_________________________________________________________________\n",
            "dense_2 (Dense)              (None, 10)                110       \n",
            "=================================================================\n",
            "Total params: 25,348,472\n",
            "Trainable params: 25,348,472\n",
            "Non-trainable params: 0\n",
            "_________________________________________________________________\n"
          ],
          "name": "stdout"
        },
        {
          "output_type": "stream",
          "text": [
            "/usr/local/lib/python3.6/dist-packages/ipykernel_launcher.py:9: UserWarning: Update your `Conv2D` call to the Keras 2 API: `Conv2D(32, (3, 3), activation=\"relu\", input_shape=(28, 28, 1...)`\n",
            "  if __name__ == '__main__':\n",
            "/usr/local/lib/python3.6/dist-packages/ipykernel_launcher.py:13: UserWarning: Update your `Conv2D` call to the Keras 2 API: `Conv2D(64, (3, 3), activation=\"relu\")`\n",
            "  del sys.path[0]\n",
            "/usr/local/lib/python3.6/dist-packages/ipykernel_launcher.py:17: UserWarning: Update your `Conv2D` call to the Keras 2 API: `Conv2D(128, (3, 3), activation=\"relu\")`\n",
            "/usr/local/lib/python3.6/dist-packages/ipykernel_launcher.py:25: UserWarning: Update your `Conv2D` call to the Keras 2 API: `Conv2D(256, (3, 3), activation=\"relu\")`\n",
            "/usr/local/lib/python3.6/dist-packages/ipykernel_launcher.py:29: UserWarning: Update your `Conv2D` call to the Keras 2 API: `Conv2D(512, (3, 3), activation=\"relu\")`\n",
            "/usr/local/lib/python3.6/dist-packages/ipykernel_launcher.py:33: UserWarning: Update your `Conv2D` call to the Keras 2 API: `Conv2D(1024, (3, 3), activation=\"relu\")`\n",
            "/usr/local/lib/python3.6/dist-packages/ipykernel_launcher.py:37: UserWarning: Update your `Conv2D` call to the Keras 2 API: `Conv2D(2048, (3, 3), activation=\"relu\")`\n",
            "/usr/local/lib/python3.6/dist-packages/ipykernel_launcher.py:41: UserWarning: Update your `Conv2D` call to the Keras 2 API: `Conv2D(10, (3, 3), activation=\"relu\")`\n"
          ],
          "name": "stderr"
        }
      ]
    },
    {
      "cell_type": "code",
      "metadata": {
        "id": "VYZOpRb6yG7_",
        "colab_type": "code",
        "colab": {}
      },
      "source": [
        "# Compile the model with adam optimizer, categorical_crossentropy loss function and accuracy metrics\n",
        "model.compile(loss='categorical_crossentropy',\n",
        "             optimizer='adam',\n",
        "             metrics=['accuracy'])"
      ],
      "execution_count": 0,
      "outputs": []
    },
    {
      "cell_type": "code",
      "metadata": {
        "id": "5O248wVQyMft",
        "colab_type": "code",
        "colab": {
          "base_uri": "https://localhost:8080/",
          "height": 408
        },
        "outputId": "4fd9131d-1891-47e9-e730-992b91e89f9a"
      },
      "source": [
        "# Fit the model to training data/labels in batches of 32 for 10 epochs\n",
        "\n",
        "model.fit(X_train, Y_train, batch_size=32, nb_epoch=10, verbose=1)"
      ],
      "execution_count": 43,
      "outputs": [
        {
          "output_type": "stream",
          "text": [
            "/usr/local/lib/python3.6/dist-packages/ipykernel_launcher.py:2: UserWarning: The `nb_epoch` argument in `fit` has been renamed `epochs`.\n",
            "  \n"
          ],
          "name": "stderr"
        },
        {
          "output_type": "stream",
          "text": [
            "Epoch 1/10\n",
            "60000/60000 [==============================] - 117s 2ms/step - loss: 0.6297 - acc: 0.8332\n",
            "Epoch 2/10\n",
            "60000/60000 [==============================] - 116s 2ms/step - loss: 0.0906 - acc: 0.9798\n",
            "Epoch 3/10\n",
            "60000/60000 [==============================] - 115s 2ms/step - loss: 0.0604 - acc: 0.9858\n",
            "Epoch 4/10\n",
            "60000/60000 [==============================] - 115s 2ms/step - loss: 0.0432 - acc: 0.9889\n",
            "Epoch 5/10\n",
            "60000/60000 [==============================] - 116s 2ms/step - loss: 0.0390 - acc: 0.9899\n",
            "Epoch 6/10\n",
            "60000/60000 [==============================] - 115s 2ms/step - loss: 0.0305 - acc: 0.9919\n",
            "Epoch 7/10\n",
            "60000/60000 [==============================] - 115s 2ms/step - loss: 0.0316 - acc: 0.9923\n",
            "Epoch 8/10\n",
            "60000/60000 [==============================] - 115s 2ms/step - loss: 0.0250 - acc: 0.9933\n",
            "Epoch 9/10\n",
            "60000/60000 [==============================] - 115s 2ms/step - loss: 0.0231 - acc: 0.9940\n",
            "Epoch 10/10\n",
            "60000/60000 [==============================] - 115s 2ms/step - loss: 0.0233 - acc: 0.9943\n"
          ],
          "name": "stdout"
        },
        {
          "output_type": "execute_result",
          "data": {
            "text/plain": [
              "<keras.callbacks.History at 0x7f336ddfd780>"
            ]
          },
          "metadata": {
            "tags": []
          },
          "execution_count": 43
        }
      ]
    },
    {
      "cell_type": "code",
      "metadata": {
        "id": "Sst4KneiyOL5",
        "colab_type": "code",
        "colab": {}
      },
      "source": [
        "# Evaluate the model on test data\n",
        "score = model.evaluate(X_test, Y_test, verbose=0)"
      ],
      "execution_count": 0,
      "outputs": []
    },
    {
      "cell_type": "code",
      "metadata": {
        "id": "CfJiXOKsyj4y",
        "colab_type": "code",
        "colab": {
          "base_uri": "https://localhost:8080/",
          "height": 34
        },
        "outputId": "8513fede-3b4e-42d2-dffc-972f35ed5462"
      },
      "source": [
        "# Print the score\n",
        "print(score)"
      ],
      "execution_count": 45,
      "outputs": [
        {
          "output_type": "stream",
          "text": [
            "[0.02995502646468667, 0.993]\n"
          ],
          "name": "stdout"
        }
      ]
    },
    {
      "cell_type": "code",
      "metadata": {
        "id": "hwLSXt7nyn_0",
        "colab_type": "code",
        "colab": {}
      },
      "source": [
        "# Predict the labels of test data\n",
        "y_pred = model.predict(X_test)"
      ],
      "execution_count": 0,
      "outputs": []
    },
    {
      "cell_type": "code",
      "metadata": {
        "id": "WWKKoOKwyppN",
        "colab_type": "code",
        "colab": {
          "base_uri": "https://localhost:8080/",
          "height": 493
        },
        "outputId": "fe620b97-521b-4b5d-bc92-a0555777dd9b"
      },
      "source": [
        "# Print the predicted labels for first 10 test elements\n",
        "print(y_pred[:9])\n",
        "\n",
        "# Print the actual labeles for first 10 test elements\n",
        "print(y_test[:9])"
      ],
      "execution_count": 47,
      "outputs": [
        {
          "output_type": "stream",
          "text": [
            "[[9.55589167e-12 1.35421286e-12 8.48045072e-12 1.05276586e-10\n",
            "  3.22511995e-09 3.17787382e-14 3.59017720e-16 1.00000000e+00\n",
            "  1.78918038e-13 6.75900613e-10]\n",
            " [6.34870767e-11 4.73616250e-11 9.99999762e-01 1.85399845e-13\n",
            "  1.08397835e-09 5.01788413e-26 6.29639316e-15 1.13353361e-10\n",
            "  6.47221729e-12 1.91238058e-07]\n",
            " [2.29745219e-14 9.99986410e-01 4.86753561e-06 2.33697110e-15\n",
            "  1.51928759e-07 8.55199880e-16 8.77770784e-13 8.27821987e-06\n",
            "  2.17580165e-07 8.60363517e-12]\n",
            " [9.99999881e-01 1.29862023e-16 4.13448026e-10 6.38892601e-08\n",
            "  1.13892558e-14 1.07714501e-15 4.85175511e-10 3.57243396e-14\n",
            "  3.22032037e-08 1.86996356e-08]\n",
            " [1.02613169e-17 1.09990559e-08 2.12974495e-12 7.50167120e-18\n",
            "  9.99845743e-01 6.36264872e-08 9.72088010e-09 6.25818286e-10\n",
            "  2.89725613e-05 1.25085760e-04]\n",
            " [1.93173441e-17 9.99998808e-01 6.20453363e-07 8.65792494e-18\n",
            "  1.81327948e-08 5.65052122e-18 3.74920330e-15 5.62686978e-07\n",
            "  5.57752244e-08 1.78123765e-13]\n",
            " [1.04441544e-28 1.17600221e-10 2.07003438e-22 6.58423147e-29\n",
            "  9.99999285e-01 1.37048080e-08 3.05656189e-13 3.87143280e-13\n",
            "  7.69142673e-07 2.18611462e-09]\n",
            " [4.59638549e-10 3.88763903e-16 3.26900533e-07 5.59673872e-08\n",
            "  1.80384916e-06 3.90906101e-12 2.93454234e-17 1.24808332e-06\n",
            "  1.15267130e-06 9.99995351e-01]\n",
            " [1.64280976e-07 1.55564539e-05 7.08686400e-07 1.57360901e-05\n",
            "  1.51061698e-07 8.85920692e-03 1.15023933e-04 1.30487537e-10\n",
            "  9.90986109e-01 7.28622035e-06]]\n",
            "[7 2 1 0 4 1 4 9 5]\n"
          ],
          "name": "stdout"
        }
      ]
    },
    {
      "cell_type": "code",
      "metadata": {
        "id": "SFR93YLpwhHY",
        "colab_type": "code",
        "colab": {}
      },
      "source": [
        "# As I mentioned in above cell building sequential model, Dense layer at the end is missing and model is unable to train. After correcting it model trained very well."
      ],
      "execution_count": 0,
      "outputs": []
    }
  ]
}